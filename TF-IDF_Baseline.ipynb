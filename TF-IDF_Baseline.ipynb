{
 "cells": [
  {
   "cell_type": "markdown",
   "id": "2e138c64-e1c3-4849-9ca2-61451284265c",
   "metadata": {},
   "source": [
    "This the TF-IDF baseline model from the starter script using "
   ]
  },
  {
   "cell_type": "code",
   "execution_count": 1,
   "id": "17d7e0eb-3b45-491f-82d9-b15f30e502cf",
   "metadata": {},
   "outputs": [],
   "source": [
    "import os\n",
    "from sklearn.feature_extraction.text import TfidfVectorizer\n",
    "from sklearn.metrics.pairwise import cosine_distances\n",
    "import numpy\n",
    "from sklearn.metrics import f1_score,precision_score,recall_score"
   ]
  },
  {
   "cell_type": "code",
   "execution_count": 2,
   "id": "366c05bb-1fe5-4c27-8555-062776f7921b",
   "metadata": {},
   "outputs": [
    {
     "name": "stdout",
     "output_type": "stream",
     "text": [
      "{'Type': 'Comparison', 'Section_id': 'Eligibility', 'Primary_id': 'NCT00425854', 'Secondary_id': 'NCT01224678', 'Statement': 'Patients with significantly elevated ejection fraction are excluded from the primary trial, but can still be eligible for the secondary trial if they are 55 years of age or over', 'Label': 'Contradiction'}\n"
     ]
    }
   ],
   "source": [
    "import json\n",
    "dev_path = \"./training_data/dev.json\"\n",
    "with open(dev_path) as json_file:\n",
    "    dev = json.load(json_file)\n",
    "# Example instance\n",
    "print(dev[list(dev.keys())[1]])"
   ]
  },
  {
   "cell_type": "code",
   "execution_count": 3,
   "id": "c9e7e08a-8771-402f-bd89-975d2465b7ff",
   "metadata": {},
   "outputs": [],
   "source": [
    "uuid_list = list(dev.keys())\n",
    "statements = []\n",
    "gold_dev_primary_evidence = []\n",
    "gold_dev_secondary_evidence = []\n",
    "for i in range(len(uuid_list)):\n",
    "  #Retrieve all statements from the development set\n",
    "  statements.append(dev[uuid_list[i]][\"Statement\"])"
   ]
  },
  {
   "cell_type": "code",
   "execution_count": 4,
   "id": "0544bd1b-9928-4099-b8e7-54b53bf9c352",
   "metadata": {},
   "outputs": [],
   "source": [
    "Results = {}\n",
    "for i in range(len(uuid_list)):\n",
    "  primary_ctr_path = os.path.join(\"./training_data/CT json\",dev[uuid_list[i]][\"Primary_id\"]+\".json\")\n",
    "  with open(primary_ctr_path) as json_file:\n",
    "    primary_ctr = json.load(json_file)\n",
    "\n",
    "  #Retrieve the full section from the primary trial\n",
    "  primary_section = primary_ctr[dev[uuid_list[i]][\"Section_id\"]]\n",
    "\n",
    "  #Convert a primary section entries to a matrix of TF-IDF features.\n",
    "  vectorizer = TfidfVectorizer().fit(primary_section)\n",
    "  X_s = vectorizer.transform([statements[i]])\n",
    "  X_p = vectorizer.transform(primary_section)\n",
    "  #Compute the cosine similarity between the primary section entries and the statement\n",
    "  primary_scores = cosine_distances(X_s, X_p)\n",
    "  #Repeat for the secondary trial\n",
    "  if dev[uuid_list[i]][\"Type\"] == \"Comparison\":\n",
    "    secondary_ctr_path = os.path.join(\"./training_data/CT json\",dev[uuid_list[i]][\"Secondary_id\"]+\".json\")\n",
    "    with open(secondary_ctr_path) as json_file:\n",
    "      secondary_ctr = json.load(json_file)\n",
    "    secondary_section = secondary_ctr[dev[uuid_list[i]][\"Section_id\"]]\n",
    "    vectorizer = TfidfVectorizer().fit(secondary_section)\n",
    "    X_s = vectorizer.transform([statements[i]])\n",
    "    X_p = vectorizer.transform(secondary_section)\n",
    "    secondary_scores = cosine_distances(X_s, X_p)\n",
    "    #Combine and average the cosine distances of all entries from the relevant section of the primary and secondary trial\n",
    "    combined_scores = []\n",
    "    combined_scores.extend(secondary_scores[0])\n",
    "    combined_scores.extend(primary_scores[0])\n",
    "    score = numpy.average(combined_scores)\n",
    "    #If the cosine distance is gless than 0.9 the prediction is entailment\n",
    "    if score > 0.9:\n",
    "      Prediction = \"Contradiction\"\n",
    "    else:\n",
    "      Prediction = \"Entailment\"\n",
    "    Results[str(uuid_list[i])] = {\"Prediction\":Prediction}\n",
    "  else:\n",
    "    #If the cosine distance is greater than 0.9 the prediction is contradiction\n",
    "    score = numpy.average(primary_scores)\n",
    "    if score > 0.9:\n",
    "      Prediction = \"Contradiction\"\n",
    "    else:\n",
    "      Prediction = \"Entailment\"\n",
    "    Results[str(uuid_list[i])] = {\"Prediction\":Prediction}"
   ]
  },
  {
   "cell_type": "code",
   "execution_count": 6,
   "id": "6021df33-f3ed-4b1a-84f1-dec947b93c99",
   "metadata": {},
   "outputs": [],
   "source": [
    "\n",
    "with open(\"TF-IDF_results.json\",'w') as jsonFile:\n",
    "    jsonFile.write(json.dumps(Results,indent=4))"
   ]
  },
  {
   "cell_type": "code",
   "execution_count": 7,
   "id": "122d6324-db99-4d49-bbcd-8469a2dff8d5",
   "metadata": {},
   "outputs": [
    {
     "name": "stdout",
     "output_type": "stream",
     "text": [
      "F1:0.502415\n",
      "precision_score:0.485981\n",
      "recall_score:0.520000\n"
     ]
    }
   ],
   "source": [
    "def main():\n",
    "\n",
    "    gold = dev\n",
    "    results = Results\n",
    "    uuid_list = list(results.keys())\n",
    "\n",
    "    results_pred = []\n",
    "    gold_labels = []\n",
    "    for i in range(len(uuid_list)):\n",
    "        if results[uuid_list[i]][\"Prediction\"] == \"Entailment\":\n",
    "            results_pred.append(1)\n",
    "        else:\n",
    "            results_pred.append(0)\n",
    "        if gold[uuid_list[i]][\"Label\"] == \"Entailment\":\n",
    "            gold_labels.append(1)\n",
    "        else:\n",
    "            gold_labels.append(0)\n",
    "\n",
    "    f_score = f1_score(gold_labels,results_pred)\n",
    "    p_score = precision_score(gold_labels,results_pred)\n",
    "    r_score = recall_score(gold_labels,results_pred)\n",
    "\n",
    "    print('F1:{:f}'.format(f_score))\n",
    "    print('precision_score:{:f}'.format(p_score))\n",
    "    print('recall_score:{:f}'.format(r_score))\n",
    "\n",
    "if '__main__' == __name__:\n",
    "    main()"
   ]
  },
  {
   "cell_type": "code",
   "execution_count": null,
   "id": "bb0e659d-2a80-479f-8b15-e1a1992e147f",
   "metadata": {},
   "outputs": [],
   "source": []
  }
 ],
 "metadata": {
  "kernelspec": {
   "display_name": "Python 3 (ipykernel)",
   "language": "python",
   "name": "python3"
  },
  "language_info": {
   "codemirror_mode": {
    "name": "ipython",
    "version": 3
   },
   "file_extension": ".py",
   "mimetype": "text/x-python",
   "name": "python",
   "nbconvert_exporter": "python",
   "pygments_lexer": "ipython3",
   "version": "3.10.13"
  }
 },
 "nbformat": 4,
 "nbformat_minor": 5
}
